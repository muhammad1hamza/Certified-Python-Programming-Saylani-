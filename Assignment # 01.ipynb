{
 "cells": [
  {
   "cell_type": "code",
   "execution_count": 7,
   "metadata": {},
   "outputs": [
    {
     "name": "stdout",
     "output_type": "stream",
     "text": [
      "Twinkle, twinkle, little stars,\n",
      " \tHow I Wonder What Your are!\n",
      " \t \tup above the world so high,\n",
      " \t \tlike a diamond in the sky.\n",
      "Twinkle, twinkle, little stars,\n",
      " \tHow I Wonder What You are\n"
     ]
    }
   ],
   "source": [
    "#Question No : 01\n",
    "x1= \"Twinkle, twinkle, little stars,\"\n",
    "x2= \"How I Wonder What Your are!\"\n",
    "x3= \"up above the world so high,\"\n",
    "x4= \"like a diamond in the sky.\"\n",
    "x5= \"Twinkle, twinkle, little stars,\"\n",
    "x6= \"How I Wonder What You are\"\n",
    "print(x1 + \"\\n \\t\" + x2 + \"\\n \\t \\t\" + x3 + \"\\n \\t \\t\" + x4 + \"\\n\" + x5 + \"\\n \\t\" + x6)"
   ]
  },
  {
   "cell_type": "code",
   "execution_count": 8,
   "metadata": {},
   "outputs": [
    {
     "name": "stdout",
     "output_type": "stream",
     "text": [
      "3.7.4 (default, Aug  9 2019, 18:34:13) [MSC v.1915 64 bit (AMD64)]\n"
     ]
    }
   ],
   "source": [
    "#Question No : 02\n",
    "import sys\n",
    "print(sys.version)"
   ]
  },
  {
   "cell_type": "code",
   "execution_count": 12,
   "metadata": {},
   "outputs": [
    {
     "name": "stdout",
     "output_type": "stream",
     "text": [
      "2019-11-28 09:16:01.067508\n"
     ]
    }
   ],
   "source": [
    "#Question No : 03\n",
    "from datetime import datetime\n",
    "dt =datetime.now()\n",
    "print(dt)"
   ]
  },
  {
   "cell_type": "code",
   "execution_count": 13,
   "metadata": {},
   "outputs": [
    {
     "name": "stdout",
     "output_type": "stream",
     "text": [
      "Type your first name:Muhammad \n",
      "Type your last name:Hamza\n",
      "Hamza Muhammad \n"
     ]
    }
   ],
   "source": [
    "#Question No : 04\n",
    "f_name = input(\"Type your first name:\")\n",
    "l_name = input(\"Type your last name:\")\n",
    "print(l_name + \" \" + f_name)"
   ]
  },
  {
   "cell_type": "code",
   "execution_count": 17,
   "metadata": {},
   "outputs": [
    {
     "name": "stdout",
     "output_type": "stream",
     "text": [
      "Enter number 1 :856\n",
      "Enter number 2 :987\n",
      "Enter number 3 :125\n",
      "Your Answer is \t856 + 987 + 125 = 1968\n"
     ]
    }
   ],
   "source": [
    "#Question No : 05\n",
    "num1 =int(input(\"Enter number 1 :\"))\n",
    "num2 =int(input(\"Enter number 2 :\"))\n",
    "num3 =int(input(\"Enter number 3 :\"))\n",
    "ans = num1 + num2 + num3\n",
    "print(\"Your Answer is \\t{0} + {1} + {2} = {3}\". format(num1,num2,num3,ans))"
   ]
  },
  {
   "cell_type": "code",
   "execution_count": null,
   "metadata": {},
   "outputs": [],
   "source": []
  }
 ],
 "metadata": {
  "kernelspec": {
   "display_name": "Python 3",
   "language": "python",
   "name": "python3"
  },
  "language_info": {
   "codemirror_mode": {
    "name": "ipython",
    "version": 3
   },
   "file_extension": ".py",
   "mimetype": "text/x-python",
   "name": "python",
   "nbconvert_exporter": "python",
   "pygments_lexer": "ipython3",
   "version": "3.7.4"
  }
 },
 "nbformat": 4,
 "nbformat_minor": 2
}
