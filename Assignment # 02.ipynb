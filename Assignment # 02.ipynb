{
 "cells": [
  {
   "cell_type": "code",
   "execution_count": 2,
   "metadata": {},
   "outputs": [
    {
     "name": "stdout",
     "output_type": "stream",
     "text": [
      "\tSTUDENT MARK SHEET\n",
      "\n",
      "Computer  96\n",
      "\n",
      "English   87\n",
      "\n",
      "Math      80\n",
      "\n",
      "Physics   68\n",
      "\n",
      "Chemistry 79\n",
      "\n",
      "Total obtained Marks: 410\n",
      "\n",
      "Your Percentage:  82.0\n",
      "Your Grade is A1\n"
     ]
    }
   ],
   "source": [
    "#Question No : 01\n",
    "print(\"\\tSTUDENT MARK SHEET\")\n",
    "sub1 = int(input(\"\\nComputer  \"));\n",
    "sub2 = int(input(\"\\nEnglish   \"));\n",
    "sub3 = int(input(\"\\nMath      \"));\n",
    "sub4 = int(input(\"\\nPhysics   \"));\n",
    "sub5 = int(input(\"\\nChemistry \"));\n",
    "Total_obtained = (sub1 + sub2 + sub3 + sub4 + sub5);\n",
    "print(\"\\nTotal obtained Marks:\", Total_obtained);\n",
    "Percentage = (Total_obtained * 100) / 500\n",
    "print(\"\\nYour Percentage: \",Percentage)\n",
    "if(Percentage>=90 and Percentage<=100):\n",
    "    print(\"Your Grade is A+\")\n",
    "elif(Percentage>=80 and Percentage<90):\n",
    "    print(\"Your Grade is A1\")\n",
    "elif(Percentage>=70 and Percentage<80):\n",
    "    print(\"Your Grade is A\")\n",
    "elif(Percentage>=60 and Percentage<70):\n",
    "    print(\"Your Grade is B\")\n",
    "elif(Percentage>=50 and Percentage<60):\n",
    "    print(\"Your Grade is C\")\n",
    "elif(Percentage>=40 and Percentage<50):\n",
    "    print(\"Your Grade is D\")\n",
    "elif(Percentage>=33 and Percentage<40):\n",
    "    print(\"Your Grade is E\")\n",
    "elif(Percentage<33 and Percentage>0):\n",
    "    print(\"Your Grade is FAIL\")\n",
    "else:\n",
    "    print(\"you have inapproperiate percentage %\")"
   ]
  },
  {
   "cell_type": "code",
   "execution_count": null,
   "metadata": {},
   "outputs": [
    {
     "name": "stdout",
     "output_type": "stream",
     "text": [
      "Enter a number 9658\n",
      "Number is Even \n",
      "Enter a number 2543\n",
      "Number is Odd \n"
     ]
    }
   ],
   "source": [
    "#Question No : 02\n",
    "n=1\n",
    "while n in range(3):\n",
    "    num=int(input(\"Enter a number \"))\n",
    "    if num%2==0:\n",
    "        print(\"Number is Even \") \n",
    "    else:\n",
    "        print(\"Number is Odd \")"
   ]
  },
  {
   "cell_type": "code",
   "execution_count": 2,
   "metadata": {},
   "outputs": [
    {
     "name": "stdout",
     "output_type": "stream",
     "text": [
      "The length of given list is\t: 10\n"
     ]
    }
   ],
   "source": [
    "#Question No : 03\n",
    "arr={96,90,18,15,10,20,85,79,24,56}\n",
    "print(\"The length of given list is\\t:\",len(arr))"
   ]
  },
  {
   "cell_type": "code",
   "execution_count": 3,
   "metadata": {},
   "outputs": [
    {
     "name": "stdout",
     "output_type": "stream",
     "text": [
      "The sum of given array list is: 216\n"
     ]
    }
   ],
   "source": [
    "#Question No : 04\n",
    "arr=[16,6,22,15,11,10,47,65,24]\n",
    "sum=0\n",
    "for i in range(0,len(arr)):\n",
    "    sum+=arr[i]\n",
    "print(\"The sum of given array list is:\",sum)"
   ]
  },
  {
   "cell_type": "code",
   "execution_count": 4,
   "metadata": {},
   "outputs": [
    {
     "name": "stdout",
     "output_type": "stream",
     "text": [
      "Largest number in list is: 96\n"
     ]
    }
   ],
   "source": [
    "#Question No : 05\n",
    "arr=[96,90,18,15,10,20,85,79,24,56]\n",
    "print(\"Largest number in list is:\",max(arr))"
   ]
  },
  {
   "cell_type": "code",
   "execution_count": 5,
   "metadata": {},
   "outputs": [
    {
     "name": "stdout",
     "output_type": "stream",
     "text": [
      "Number less then 5:\n",
      "1\n",
      "1\n",
      "2\n",
      "3\n",
      "3\n"
     ]
    }
   ],
   "source": [
    "#Question No : 06\n",
    "arr =[1,1,2,3,3,8,27,34,40]\n",
    "print(\"Number less then 5:\")\n",
    "for i in range(0,len(arr)):\n",
    "    if arr[i]<5:\n",
    "        print(arr[i])"
   ]
  },
  {
   "cell_type": "code",
   "execution_count": null,
   "metadata": {},
   "outputs": [],
   "source": []
  }
 ],
 "metadata": {
  "kernelspec": {
   "display_name": "Python 3",
   "language": "python",
   "name": "python3"
  },
  "language_info": {
   "codemirror_mode": {
    "name": "ipython",
    "version": 3
   },
   "file_extension": ".py",
   "mimetype": "text/x-python",
   "name": "python",
   "nbconvert_exporter": "python",
   "pygments_lexer": "ipython3",
   "version": "3.7.4"
  }
 },
 "nbformat": 4,
 "nbformat_minor": 2
}
