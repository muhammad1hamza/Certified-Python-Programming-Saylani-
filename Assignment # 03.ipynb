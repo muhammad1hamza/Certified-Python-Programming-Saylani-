{
 "cells": [
  {
   "cell_type": "code",
   "execution_count": null,
   "metadata": {},
   "outputs": [
    {
     "name": "stdout",
     "output_type": "stream",
     "text": [
      "Enter First numeric value:\n",
      " 98\n",
      "Enter operator +\n",
      "Enter Second numeric value:\n",
      " 96\n",
      "98+96= 194\n",
      "Enter First numeric value:\n",
      " 98\n",
      "Enter operator -\n",
      "Enter Second numeric value:\n",
      " 96\n",
      "98-96= 2\n",
      "Enter First numeric value:\n",
      " 96\n",
      "Enter operator *\n",
      "Enter Second numeric value:\n",
      " 98\n",
      "96*98= 9408\n",
      "Enter First numeric value:\n",
      " 98\n",
      "Enter operator /\n",
      "Enter Second numeric value:\n",
      " 96\n",
      "98/96= 1.0208333333333333\n"
     ]
    }
   ],
   "source": [
    "#Question No : 01 // Calculator\n",
    "a=2\n",
    "while a not in range(1):\n",
    " num1=int(input(\"Enter First numeric value:\\n \"))\n",
    " op=input(\"Enter operator \")\n",
    " num2=int(input(\"Enter Second numeric value:\\n \"))\n",
    "\n",
    " if op==\"+\":\n",
    "  print (\"%d+%d=\"%(num1, num2),num1+num2)\n",
    " elif op==\"-\":\n",
    "  print (\"%d-%d=\"%(num1, num2),num1-num2)\n",
    " elif op==\"*\":\n",
    "  print (\"%d*%d=\"%(num1, num2),num1*num2)\n",
    " elif op==\"/\":\n",
    "  print (\"%d/%d=\"%(num1, num2),num1/num2)\n",
    " elif op==\"p\":\n",
    "  print (\"%d^%d=\"%(num1, num2),num1**num2)\n",
    " else:\n",
    "  print(\"Invalid Operator!\")"
   ]
  },
  {
   "cell_type": "code",
   "execution_count": 1,
   "metadata": {},
   "outputs": [
    {
     "name": "stdout",
     "output_type": "stream",
     "text": [
      "Numeric Values are: 1\n",
      "Numeric Values are: 30\n",
      "Numeric Values are: 44\n",
      "Numeric Values are: 5.6\n"
     ]
    }
   ],
   "source": [
    "#Question No : 02 // check if there is any numeric value\n",
    "a=[1,30,44,5.6,\"Ali\",\"Fahad\"]\n",
    "for i in a:\n",
    "    if type(i)==int or type(i)==float:\n",
    "     print(\"Numeric Values are:\",i)"
   ]
  },
  {
   "cell_type": "code",
   "execution_count": 2,
   "metadata": {},
   "outputs": [
    {
     "name": "stdout",
     "output_type": "stream",
     "text": [
      "Enter KeyName\n",
      "Enter valuesMuhammadHamza\n",
      "{'Name': 'MuhammadHamza'}\n"
     ]
    }
   ],
   "source": [
    "#Question No : 03 // script to add a key to a dictionary\n",
    "dic={}\n",
    "key=input(\"Enter Key\")\n",
    "value=input(\"Enter values\")\n",
    "dic.update({key:value})\n",
    "print(dic)"
   ]
  },
  {
   "cell_type": "code",
   "execution_count": 3,
   "metadata": {},
   "outputs": [
    {
     "name": "stdout",
     "output_type": "stream",
     "text": [
      "Sum of All numeric numbers are: 100\n"
     ]
    }
   ],
   "source": [
    "#Question No : 04 // sum all the numeric items in a dictionary\n",
    "dic={\"a\":\"Ali\",\"b\":\"Nawaz\",\"c\":50,\"e\":40,\"f\":10}\n",
    "sum=0\n",
    "for i in dic.values():\n",
    "    if type(i)==int:\n",
    "     sum+=i\n",
    "print(\"Sum of All numeric numbers are:\",sum)"
   ]
  },
  {
   "cell_type": "code",
   "execution_count": 4,
   "metadata": {},
   "outputs": [
    {
     "name": "stdout",
     "output_type": "stream",
     "text": [
      "duplicate values are: China\n",
      "duplicate values are: Japan\n"
     ]
    }
   ],
   "source": [
    "#Question No : 05 //identify duplicate values from list\n",
    "a=[\"China\",\"Japan\",\"Pakistan\",\"China\",\"Japan\"]\n",
    "for i in range(len(a)):\n",
    " for j in range(i+1,len(a)):\n",
    "  if a[j]==a[i]:\n",
    "   print(\"duplicate values are:\",a[j])"
   ]
  },
  {
   "cell_type": "code",
   "execution_count": null,
   "metadata": {},
   "outputs": [
    {
     "name": "stdout",
     "output_type": "stream",
     "text": [
      "Enter nameHamza\n",
      "Name is exists\n",
      "Enter nameHussain\n",
      "Not exists\n"
     ]
    }
   ],
   "source": [
    "#Question No : 06 // check if a given key already exists in a dictionary\n",
    "a=2\n",
    "while a not in range(2):\n",
    " dic={\"Name1\":\"Bilal\",\"Name2\":\"Owais\",\"Name3\":\"Razak\",\"Name4\":\"Anus\",\"Name5\":\"Hamza\",\"Name5\":\"Hamza\"}\n",
    " check=input(\"Enter name\")\n",
    " flag=\"\"\n",
    " for i in dic.values():\n",
    "    if i==check:\n",
    "     flag=\"true\"\n",
    " if flag==\"true\":\n",
    "  print(\"Name is exists\")\n",
    " else:\n",
    "  print(\"Not exists\")"
   ]
  }
 ],
 "metadata": {
  "kernelspec": {
   "display_name": "Python 3",
   "language": "python",
   "name": "python3"
  },
  "language_info": {
   "codemirror_mode": {
    "name": "ipython",
    "version": 3
   },
   "file_extension": ".py",
   "mimetype": "text/x-python",
   "name": "python",
   "nbconvert_exporter": "python",
   "pygments_lexer": "ipython3",
   "version": "3.7.4"
  }
 },
 "nbformat": 4,
 "nbformat_minor": 2
}
